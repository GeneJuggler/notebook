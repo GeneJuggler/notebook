{
 "cells": [
  {
   "cell_type": "markdown",
   "metadata": {},
   "source": [
    "# Implementing a 4 parameter logistic curve in Python\n",
    "Two websites I found that look helpful.\n",
    "http://people.duke.edu/~ccc14/pcfb/analysis.html\n",
    "This links to a nice python implementation of 4pl that I will see if I can get to work.\n",
    "https://www.aphis.usda.gov/animal_health/vet_biologics/publications/STATWI0005.pdf\n",
    "This odd link had a great explanation of what is going on in a 4pl implementation. This is what really made it start clicking for me."
   ]
  },
  {
   "cell_type": "code",
   "execution_count": 1,
   "metadata": {
    "collapsed": true
   },
   "outputs": [],
   "source": [
    "import numpy as np\n",
    "import numpy.random as npr\n",
    "import matplotlib.pyplot as plt\n",
    "from scipy.optimize import leastsq"
   ]
  },
  {
   "cell_type": "code",
   "execution_count": 2,
   "metadata": {
    "collapsed": true
   },
   "outputs": [],
   "source": [
    "def logistic4(x, A, B, C, D):\n",
    "    \"\"\"4PL logistic equation.\"\"\"\n",
    "    return ((A - D)/(1.0 + ((x / C)**B))) + D"
   ]
  },
  {
   "cell_type": "markdown",
   "metadata": {},
   "source": [
    "The parameters in a 4PL curve are the following:\n",
    "* A and D are the upper and lower asymptotes. Since I am thinking in terms of ELISA assays, which one is upper or lower depends on whether it is a competitive assay or not.\n",
    "* B is the scale factor. I basically think of this as the approximate slope at the inflection point. This is an imperfect way to think about it, but it gets the job done.\n",
    "* C is the location parameter. This is where the inflection point between the two asymptotes is at.\n",
    "* x would be, in the case of an ELISA, the concentration parameter."
   ]
  },
  {
   "cell_type": "code",
   "execution_count": 3,
   "metadata": {
    "collapsed": true
   },
   "outputs": [],
   "source": [
    "def residuals(p, y, x):\n",
    "    \"\"\"Deviations of data from fitted 4PL curve\"\"\"\n",
    "    A, B, C, D = p\n",
    "    err = y-logistic4(x, A, B, C, D)\n",
    "    return err"
   ]
  },
  {
   "cell_type": "code",
   "execution_count": null,
   "metadata": {
    "collapsed": true
   },
   "outputs": [],
   "source": [
    "def peval(x, p):\n",
    "    \"\"\"Evaluated value at x with current parameters.\"\"\"\n",
    "    A, B, C, D = p\n",
    "    return logistic(x, A, B, C, D)"
   ]
  }
 ],
 "metadata": {
  "kernelspec": {
   "display_name": "Python 3",
   "language": "python",
   "name": "python3"
  },
  "language_info": {
   "codemirror_mode": {
    "name": "ipython",
    "version": 3
   },
   "file_extension": ".py",
   "mimetype": "text/x-python",
   "name": "python",
   "nbconvert_exporter": "python",
   "pygments_lexer": "ipython3",
   "version": "3.6.1"
  }
 },
 "nbformat": 4,
 "nbformat_minor": 2
}
