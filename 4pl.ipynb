{
 "cells": [
  {
   "cell_type": "markdown",
   "metadata": {},
   "source": [
    "# Implementing a 4 parameter logistic curve in Python\n",
    "Two websites I found that look helpful.\n",
    "http://people.duke.edu/~ccc14/pcfb/analysis.html\n",
    "This links to a nice python implementation of 4pl that I will see if I can get to work.\n",
    "https://www.aphis.usda.gov/animal_health/vet_biologics/publications/STATWI0005.pdf\n",
    "This odd link had a great explanation of what is going on in a 4pl implementation. This is what really made it start clicking for me."
   ]
  },
  {
   "cell_type": "code",
   "execution_count": 23,
   "metadata": {
    "collapsed": true
   },
   "outputs": [],
   "source": [
    "%matplotlib inline\n",
    "\n",
    "import numpy as np\n",
    "import numpy.random as npr\n",
    "import matplotlib.pyplot as plt\n",
    "from scipy.optimize import leastsq"
   ]
  },
  {
   "cell_type": "markdown",
   "metadata": {},
   "source": [
    "I learned that you need to include '%matplotlib inline' if you want want a graph to show up in your Jupyter notebook."
   ]
  },
  {
   "cell_type": "code",
   "execution_count": 3,
   "metadata": {
    "collapsed": true
   },
   "outputs": [],
   "source": [
    "def logistic4(x, A, B, C, D):\n",
    "    \"\"\"4PL logistic equation.\"\"\"\n",
    "    return ((A - D)/(1.0 + ((x / C)**B))) + D"
   ]
  },
  {
   "cell_type": "markdown",
   "metadata": {},
   "source": [
    "The parameters in a 4PL curve are the following:\n",
    "* A and D are the upper and lower asymptotes. Since I am thinking in terms of ELISA assays, which one is upper or lower depends on whether it is a competitive assay or not.\n",
    "* B is the scale factor. I basically think of this as the approximate slope at the inflection point. This is an imperfect way to think about it, but it gets the job done.\n",
    "* C is the location parameter. This is where the inflection point between the two asymptotes is at.\n",
    "* x would be, in the case of an ELISA, the concentration parameter."
   ]
  },
  {
   "cell_type": "code",
   "execution_count": 4,
   "metadata": {
    "collapsed": true
   },
   "outputs": [],
   "source": [
    "def residuals(p, y, x):\n",
    "    \"\"\"Deviations of data from fitted 4PL curve\"\"\"\n",
    "    A, B, C, D = p\n",
    "    err = y-logistic4(x, A, B, C, D)\n",
    "    return err"
   ]
  },
  {
   "cell_type": "code",
   "execution_count": 18,
   "metadata": {
    "collapsed": true
   },
   "outputs": [],
   "source": [
    "def peval(x, p):\n",
    "    \"\"\"Evaluated value at x with current parameters.\"\"\"\n",
    "    A, B, C, D = p\n",
    "    return logistic4(x, A, B, C, D)"
   ]
  },
  {
   "cell_type": "code",
   "execution_count": 11,
   "metadata": {
    "collapsed": true
   },
   "outputs": [],
   "source": [
    "x = np.linspace(0.001, 20, 20)\n",
    "A, B, C, D = 0.5, 2.5, 8, 7.3\n",
    "y_true = logistic4(x, A, B, C, D)\n",
    "y_meas = y_true + 0.2 * npr.randn(len(x))"
   ]
  },
  {
   "cell_type": "code",
   "execution_count": 14,
   "metadata": {
    "collapsed": true
   },
   "outputs": [],
   "source": [
    "p0 = [0, 1, 1, 1]"
   ]
  },
  {
   "cell_type": "code",
   "execution_count": 16,
   "metadata": {},
   "outputs": [],
   "source": [
    "plsq = leastsq(residuals, p0, args = (y_meas, x))"
   ]
  },
  {
   "cell_type": "markdown",
   "metadata": {},
   "source": [
    "When this section tried to run I encountered an error because something was getting divided by zero. When I adjusted x = np.linspace(0, 20, 20) into (0.001, 20, 20) to get everything working."
   ]
  },
  {
   "cell_type": "code",
   "execution_count": 25,
   "metadata": {},
   "outputs": [
    {
     "data": {
      "text/plain": [
       "<module 'matplotlib.pyplot' from '/usr/local/lib/python3.6/site-packages/matplotlib/pyplot.py'>"
      ]
     },
     "execution_count": 25,
     "metadata": {},
     "output_type": "execute_result"
    },
    {
     "data": {
      "image/png": "[encoded data removed]",
      "text/plain": [
       "<matplotlib.figure.Figure at 0x108cf1b38>"
      ]
     },
     "metadata": {},
     "output_type": "display_data"
    }
   ],
   "source": [
    "plt.plot(x, peval(x, plsq[0]), x, y_meas, 'o', x, y_true)\n",
    "plt.title('Least-squares 4PL fit to noisy data')\n",
    "plt.legend(['Fit', 'Noisy', 'True'], loc = 'upper left')\n",
    "for i, (param, actual, est) in enumerate(zip('ABCD', [A, B, C, D], plsq[0])):\n",
    "    plt.text(10, 3 - i * 0.5, '%s = %.2f, est(%s) = %.2f' % (param, actual, param, est))\n",
    "#plt.savefig('logistic.png')\n",
    "plt"
   ]
  },
  {
   "cell_type": "code",
   "execution_count": null,
   "metadata": {
    "collapsed": true
   },
   "outputs": [],
   "source": []
  }
 ],
 "metadata": {
  "kernelspec": {
   "display_name": "Python 3",
   "language": "python",
   "name": "python3"
  },
  "language_info": {
   "codemirror_mode": {
    "name": "ipython",
    "version": 3
   },
   "file_extension": ".py",
   "mimetype": "text/x-python",
   "name": "python",
   "nbconvert_exporter": "python",
   "pygments_lexer": "ipython3",
   "version": "3.6.1"
  }
 },
 "nbformat": 4,
 "nbformat_minor": 2
}
